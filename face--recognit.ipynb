{
 "cells": [
  {
   "cell_type": "markdown",
   "metadata": {},
   "source": [
    "## Face_recognition \n",
    "\n",
    "you have to first install face_recognition library using this command \" !pip install face-recognition \"\n",
    "\n",
    "and Deep-Face Library using this command \" !pip install deepface \"\n",
    "\n",
    "\n",
    "\n",
    "importing all the required Libraries"
   ]
  },
  {
   "cell_type": "code",
   "execution_count": 44,
   "metadata": {},
   "outputs": [],
   "source": [
    "from deepface import DeepFace\n",
    "import face_recognition\n",
    "from IPython.display import Image\n",
    "import os, glob\n",
    "import cv2"
   ]
  },
  {
   "cell_type": "markdown",
   "metadata": {},
   "source": [
    "#### Provide image for face-recognition"
   ]
  },
  {
   "cell_type": "code",
   "execution_count": 52,
   "metadata": {},
   "outputs": [],
   "source": [
    "image = \"./haseeb.jpeg\"\n",
    "image_db = glob.glob('./Images/*.*g')"
   ]
  },
  {
   "cell_type": "markdown",
   "metadata": {},
   "source": [
    "## Face Recognition using DeepFace 0.0.68\n",
    "– The Most Popular Open Source Facial Recognition Library"
   ]
  },
  {
   "cell_type": "code",
   "execution_count": 46,
   "metadata": {},
   "outputs": [
    {
     "data": {
      "text/html": [
       "<img src=\"./Capture deep-face.PNG\" width=\"1200\" height=\"800\"/>"
      ],
      "text/plain": [
       "<IPython.core.display.Image object>"
      ]
     },
     "execution_count": 46,
     "metadata": {},
     "output_type": "execute_result"
    }
   ],
   "source": [
    "Image(url= \"./Capture deep-face.PNG\", width=1200, height=800)"
   ]
  },
  {
   "cell_type": "markdown",
   "metadata": {},
   "source": [
    "For futher detail you can visit these links: \" https://viso.ai/computer-vision/deepface/ \" or \" https://github.com/serengil/deepface \""
   ]
  },
  {
   "cell_type": "code",
   "execution_count": 49,
   "metadata": {},
   "outputs": [],
   "source": [
    "def deep_face(known,unknown):\n",
    "    models = [\"VGG-Face\", \"Facenet\", \"Facenet512\", \"OpenFace\", \"DeepFace\", \"DeepID\", \"ArcFace\", \"Dlib\"]\n",
    "    count = 0\n",
    "    for i in models:\n",
    "        result = DeepFace.verify(known,unknown, i ,enforce_detection=False)\n",
    "        a = list(result.values())[0]\n",
    "        print(i)\n",
    "        if a == True:\n",
    "            name= unknown.split(\"\\\\\")[-1]\n",
    "            f_name= name.split(\".\")[0]\n",
    "            count+=1\n",
    "            print(f'You are WELLCOME {f_name}')\n",
    "    if count == 6:\n",
    "        print(count)\n",
    "        return a"
   ]
  },
  {
   "cell_type": "markdown",
   "metadata": {},
   "source": [
    "### Face_Recognition using face-recognition 1.3.0 model \n",
    "\n",
    "may you can follow this link for further details: \" https://pypi.org/project/face-recognition/ \""
   ]
  },
  {
   "cell_type": "code",
   "execution_count": 50,
   "metadata": {},
   "outputs": [],
   "source": [
    "def face_recog():\n",
    "        print('==============================')\n",
    "        known_image = face_recognition.load_image_file(image)\n",
    "        if face_recognition.face_encodings(known_image):\n",
    "            biden_encoding = face_recognition.face_encodings(known_image)[0]\n",
    "            for i in image_db:\n",
    "                unknown_image = face_recognition.load_image_file(i)\n",
    "\n",
    "                print(i)\n",
    "                if face_recognition.face_encodings(unknown_image):\n",
    "                    unknown_encoding = face_recognition.face_encodings(unknown_image)[0]\n",
    "\n",
    "                    results = face_recognition.compare_faces([biden_encoding], unknown_encoding)\n",
    "                    if results[0] == True:\n",
    "                        print(f\"You are Wellcome {(i.split('/')[-1]).split('.')[0]}\")\n",
    "                        break\n",
    "                else:\n",
    "                    print('========= deep+face_rec  ===========')\n",
    "                    if deep_face(image,i):\n",
    "                       break\n",
    "            else:\n",
    "                print('No image matched')\n",
    "\n",
    "        else:# check with deepface\n",
    "            print('========= deep  ===========')\n",
    "            for i in image_db:\n",
    "                if deep_face(image,i):\n",
    "                    break\n",
    "            else:\n",
    "                print('No image matched Enshore  you are register')\n"
   ]
  },
  {
   "cell_type": "markdown",
   "metadata": {},
   "source": [
    "Funcation Calling:\n",
    "\n",
    "if face-recognition funcation is failed to get face then deep_face funcation will try to recognize the face from the given images"
   ]
  },
  {
   "cell_type": "code",
   "execution_count": 53,
   "metadata": {},
   "outputs": [
    {
     "name": "stdout",
     "output_type": "stream",
     "text": [
      "==============================\n",
      "./Images\\Baber.jpg\n",
      "========= deep+face_rec  ===========\n",
      "VGG-Face\n",
      "You are WELLCOME Baber\n",
      "Facenet\n",
      "Facenet512\n",
      "OpenFace\n",
      "DeepFace\n",
      "You are WELLCOME Baber\n",
      "DeepID\n",
      "ArcFace\n",
      "Dlib\n",
      "./Images\\Hafiz Ahmad.jpeg\n",
      "You are Wellcome Images\\Hafiz Ahmad\n"
     ]
    }
   ],
   "source": [
    "face_recog()"
   ]
  },
  {
   "cell_type": "code",
   "execution_count": null,
   "metadata": {},
   "outputs": [],
   "source": []
  },
  {
   "cell_type": "code",
   "execution_count": null,
   "metadata": {},
   "outputs": [],
   "source": []
  }
 ],
 "metadata": {
  "interpreter": {
   "hash": "11e4f431d9f4ca25019afdd815f68cb7830df17d42868ab8fdcc67f96c0b156b"
  },
  "kernelspec": {
   "display_name": "Python 3.7.0 64-bit",
   "language": "python",
   "name": "python3"
  },
  "language_info": {
   "codemirror_mode": {
    "name": "ipython",
    "version": 3
   },
   "file_extension": ".py",
   "mimetype": "text/x-python",
   "name": "python",
   "nbconvert_exporter": "python",
   "pygments_lexer": "ipython3",
   "version": "3.7.0"
  },
  "orig_nbformat": 4
 },
 "nbformat": 4,
 "nbformat_minor": 2
}
