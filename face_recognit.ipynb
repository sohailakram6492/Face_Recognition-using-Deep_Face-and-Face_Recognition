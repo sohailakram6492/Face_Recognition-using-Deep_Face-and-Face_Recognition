{
 "cells": [
  {
   "cell_type": "markdown",
   "metadata": {},
   "source": [
    "## Face_recognition \n",
    "\n",
    "you have to first install face_recognition library using this command \" !pip install face-recognition \"\n",
    "\n",
    "and Deep-Face Library using this command \" !pip install deepface \"\n",
    "\n",
    "\n",
    "\n",
    "importing all the required Libraries"
   ]
  },
  {
   "cell_type": "code",
   "execution_count": 73,
   "metadata": {},
   "outputs": [],
   "source": [
    "from deepface import DeepFace\n",
    "import face_recognition\n",
    "from IPython.display import Image\n",
    "import os, glob"
   ]
  },
  {
   "cell_type": "markdown",
   "metadata": {},
   "source": [
    "#### Provide image for face-recognition"
   ]
  },
  {
   "cell_type": "code",
   "execution_count": 74,
   "metadata": {},
   "outputs": [
    {
     "name": "stdout",
     "output_type": "stream",
     "text": [
      "['./Images\\\\Baber.jpg', './Images\\\\Hafiz Ahmad.jpeg', './Images\\\\Naveed.jpg', './Images\\\\Nazeer.JPG', './Images\\\\Sohail.jpg']\n"
     ]
    }
   ],
   "source": [
    "image = \"./Images/Naveed.jpg\"\n",
    "image_db = glob.glob('./Images/*.*g')\n",
    "print(image_db)"
   ]
  },
  {
   "cell_type": "markdown",
   "metadata": {},
   "source": [
    "### Face_Recognition using face-recognition 1.3.0 model \n",
    "\n",
    "may you can follow this link for further details: \" https://pypi.org/project/face-recognition/ \""
   ]
  },
  {
   "cell_type": "code",
   "execution_count": 75,
   "metadata": {},
   "outputs": [],
   "source": [
    "def face_recog():\n",
    "    for i in image_db:\n",
    "        # print(i)\n",
    "        known_image = face_recognition.load_image_file(i)\n",
    "        unknown_image = face_recognition.load_image_file(image)\n",
    "        # print(f\"{unknown_image}aa\")\n",
    "        print(face_recognition.face_encodings(known_image))\n",
    "        biden_encoding = face_recognition.face_encodings(known_image)[0]\n",
    "        unknown_encoding = face_recognition.face_encodings(unknown_image)[0]\n",
    "        print(len(known_image))\n",
    "\n",
    "        results = face_recognition.compare_faces([biden_encoding], unknown_encoding)\n",
    "        \n",
    "        if results == [True]:\n",
    "            print(f\"You are Wellcome {(image.split('/')[-1]).split('.')[0]}\")\n",
    "            break\n",
    "\n",
    "    if results == False:\n",
    "        # print(\"Please Login First\")\n",
    "        deep_face()\n",
    "\n"
   ]
  },
  {
   "cell_type": "markdown",
   "metadata": {},
   "source": [
    "## Face Recognition using DeepFace 0.0.68\n",
    "– The Most Popular Open Source Facial Recognition Library"
   ]
  },
  {
   "cell_type": "code",
   "execution_count": 76,
   "metadata": {},
   "outputs": [
    {
     "data": {
      "text/html": [
       "<img src=\"./Capture deep-face.PNG\" width=\"1200\" height=\"800\"/>"
      ],
      "text/plain": [
       "<IPython.core.display.Image object>"
      ]
     },
     "execution_count": 76,
     "metadata": {},
     "output_type": "execute_result"
    }
   ],
   "source": [
    "Image(url= \"./Capture deep-face.PNG\", width=1200, height=800)"
   ]
  },
  {
   "cell_type": "markdown",
   "metadata": {},
   "source": [
    "For futher detail you can visit these links: \" https://viso.ai/computer-vision/deepface/ \" or \" https://github.com/serengil/deepface \""
   ]
  },
  {
   "cell_type": "code",
   "execution_count": 77,
   "metadata": {},
   "outputs": [],
   "source": [
    "def deep_face(): \n",
    "    try:\n",
    "        for j in image_db:\n",
    "            print(f\"{j}\")\n",
    "            result = DeepFace.verify(image, j, \"ArcFace\")\n",
    "            a = list(result.values())[0]\n",
    "            value= list(result.values())[1]\n",
    "            if a == True:\n",
    "                name= j.split(\"\\\\\")[-1]\n",
    "                print(f'You are WELLCOME {name.split(\".\")[0]} ')\n",
    "                # print(f\"Difference between Images {float('{0:.2f}'.format(value))}\")\n",
    "                break\n",
    "        if a == False:\n",
    "            print(\"Please Login First\")\n",
    "    except:\n",
    "        print(\"Please Login First!!\")"
   ]
  },
  {
   "cell_type": "markdown",
   "metadata": {},
   "source": [
    "Here I am calling two funcations for face-recognition because if face_recognition funcation fail to recognize then try from deep_face funcation and the Try Catch will prevent error when the model fail to detect face in the given image "
   ]
  },
  {
   "cell_type": "code",
   "execution_count": 78,
   "metadata": {},
   "outputs": [
    {
     "name": "stdout",
     "output_type": "stream",
     "text": [
      "[]\n",
      "./Images\\Baber.jpg\n",
      "./Images\\Hafiz Ahmad.jpeg\n",
      "./Images\\Naveed.jpg\n",
      "You are WELLCOME Naveed \n"
     ]
    }
   ],
   "source": [
    "try:\n",
    "    face_recog()\n",
    "except:\n",
    "    deep_face()"
   ]
  },
  {
   "cell_type": "code",
   "execution_count": 79,
   "metadata": {},
   "outputs": [],
   "source": [
    "# DeepFace.stream(db_path = image_db )"
   ]
  },
  {
   "cell_type": "code",
   "execution_count": null,
   "metadata": {},
   "outputs": [],
   "source": []
  }
 ],
 "metadata": {
  "interpreter": {
   "hash": "11e4f431d9f4ca25019afdd815f68cb7830df17d42868ab8fdcc67f96c0b156b"
  },
  "kernelspec": {
   "display_name": "Python 3.7.0 64-bit",
   "language": "python",
   "name": "python3"
  },
  "language_info": {
   "codemirror_mode": {
    "name": "ipython",
    "version": 3
   },
   "file_extension": ".py",
   "mimetype": "text/x-python",
   "name": "python",
   "nbconvert_exporter": "python",
   "pygments_lexer": "ipython3",
   "version": "3.7.0"
  },
  "orig_nbformat": 4
 },
 "nbformat": 4,
 "nbformat_minor": 2
}
